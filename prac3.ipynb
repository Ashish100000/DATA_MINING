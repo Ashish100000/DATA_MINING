{
 "cells": [
  {
   "cell_type": "code",
   "execution_count": 2,
   "id": "12f6a6d6-5f04-4501-a060-95c74254ad77",
   "metadata": {},
   "outputs": [
    {
     "name": "stdout",
     "output_type": "stream",
     "text": [
      "   bread  butter   eggs   milk\n",
      "0   True    True  False   True\n",
      "1   True   False  False   True\n",
      "2  False   False   True   True\n",
      "3   True   False   True  False\n",
      "4   True    True  False  False\n",
      "Results for minimum support 50% and minimum confidence 75%:\n",
      "   support itemsets\n",
      "0      0.8  (bread)\n",
      "1      0.6   (milk)\n",
      "Empty DataFrame\n",
      "Columns: [antecedents, consequents, antecedent support, consequent support, support, confidence, lift, leverage, conviction, zhangs_metric]\n",
      "Index: []\n",
      "\n",
      "Results for minimum support 60% and minimum confidence 60%:\n",
      "   support itemsets\n",
      "0      0.8  (bread)\n",
      "1      0.6   (milk)\n",
      "Empty DataFrame\n",
      "Columns: [antecedents, consequents, antecedent support, consequent support, support, confidence, lift, leverage, conviction, zhangs_metric]\n",
      "Index: []\n"
     ]
    }
   ],
   "source": [
    "from mlxtend.preprocessing import TransactionEncoder\n",
    "from mlxtend.frequent_patterns import apriori, association_rules\n",
    "import pandas as pd\n",
    "import numpy as np\n",
    "\n",
    "# Define a simple dataset of transactions\n",
    "dataset = [['milk', 'bread', 'butter'],\n",
    "           ['milk', 'bread'],\n",
    "           ['milk', 'eggs'],\n",
    "           ['bread', 'eggs'],\n",
    "           ['bread', 'butter']]\n",
    "\n",
    "# Encode the dataset\n",
    "te = TransactionEncoder()\n",
    "te_ary = te.fit(dataset).transform(dataset)\n",
    "df = pd.DataFrame(te_ary, columns=te.columns_)\n",
    "print(df)\n",
    "\n",
    "# Run Apriori algorithm with minimum support of 50% and minimum confidence of 75%\n",
    "frequent_itemsets_a = apriori(df, min_support=0.5, use_colnames=True)\n",
    "rules_a = association_rules(frequent_itemsets_a, metric=\"confidence\", min_threshold=0.75)\n",
    "\n",
    "# Run Apriori algorithm with minimum support of 60% and minimum confidence of 60%\n",
    "frequent_itemsets_b = apriori(df, min_support=0.6, use_colnames=True)\n",
    "rules_b = association_rules(frequent_itemsets_b, metric=\"confidence\", min_threshold=0.6)\n",
    "\n",
    "# Print the results\n",
    "print(\"Results for minimum support 50% and minimum confidence 75%:\")\n",
    "print(frequent_itemsets_a)\n",
    "print(rules_a)\n",
    "\n",
    "print(\"\\nResults for minimum support 60% and minimum confidence 60%:\")\n",
    "print(frequent_itemsets_b)\n",
    "print(rules_b)"
   ]
  },
  {
   "cell_type": "code",
   "execution_count": null,
   "id": "01ec70d7-7dad-4ce1-a742-1e85b2745451",
   "metadata": {},
   "outputs": [],
   "source": []
  }
 ],
 "metadata": {
  "kernelspec": {
   "display_name": "Python 3 (ipykernel)",
   "language": "python",
   "name": "python3"
  },
  "language_info": {
   "codemirror_mode": {
    "name": "ipython",
    "version": 3
   },
   "file_extension": ".py",
   "mimetype": "text/x-python",
   "name": "python",
   "nbconvert_exporter": "python",
   "pygments_lexer": "ipython3",
   "version": "3.11.1"
  }
 },
 "nbformat": 4,
 "nbformat_minor": 5
}
