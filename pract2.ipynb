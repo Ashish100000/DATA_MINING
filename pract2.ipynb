{
 "cells": [
  {
   "cell_type": "code",
   "execution_count": 1,
   "id": "fd3d25e2-02fa-4590-9d04-bed9ccb8e70e",
   "metadata": {},
   "outputs": [],
   "source": [
    "#Question 2\n",
    "import pandas as pd\n",
    "import numpy as np\n",
    "from sklearn.decomposition import PCA\n",
    "from sklearn.feature_selection import SelectKBest, f_classif"
   ]
  },
  {
   "cell_type": "code",
   "execution_count": 2,
   "id": "585cee03-d94c-4fec-9531-80b92e608c64",
   "metadata": {},
   "outputs": [
    {
     "data": {
      "text/html": [
       "<div>\n",
       "<style scoped>\n",
       "    .dataframe tbody tr th:only-of-type {\n",
       "        vertical-align: middle;\n",
       "    }\n",
       "\n",
       "    .dataframe tbody tr th {\n",
       "        vertical-align: top;\n",
       "    }\n",
       "\n",
       "    .dataframe thead th {\n",
       "        text-align: right;\n",
       "    }\n",
       "</style>\n",
       "<table border=\"1\" class=\"dataframe\">\n",
       "  <thead>\n",
       "    <tr style=\"text-align: right;\">\n",
       "      <th></th>\n",
       "      <th>Category</th>\n",
       "      <th>Sales</th>\n",
       "      <th>Age</th>\n",
       "      <th>Customer</th>\n",
       "    </tr>\n",
       "  </thead>\n",
       "  <tbody>\n",
       "    <tr>\n",
       "      <th>0</th>\n",
       "      <td>A</td>\n",
       "      <td>100</td>\n",
       "      <td>25</td>\n",
       "      <td>10</td>\n",
       "    </tr>\n",
       "    <tr>\n",
       "      <th>1</th>\n",
       "      <td>B</td>\n",
       "      <td>150</td>\n",
       "      <td>40</td>\n",
       "      <td>15</td>\n",
       "    </tr>\n",
       "    <tr>\n",
       "      <th>2</th>\n",
       "      <td>A</td>\n",
       "      <td>80</td>\n",
       "      <td>35</td>\n",
       "      <td>8</td>\n",
       "    </tr>\n",
       "    <tr>\n",
       "      <th>3</th>\n",
       "      <td>B</td>\n",
       "      <td>120</td>\n",
       "      <td>28</td>\n",
       "      <td>12</td>\n",
       "    </tr>\n",
       "  </tbody>\n",
       "</table>\n",
       "</div>"
      ],
      "text/plain": [
       "  Category  Sales  Age  Customer\n",
       "0        A    100   25        10\n",
       "1        B    150   40        15\n",
       "2        A     80   35         8\n",
       "3        B    120   28        12"
      ]
     },
     "execution_count": 2,
     "metadata": {},
     "output_type": "execute_result"
    }
   ],
   "source": [
    "data = {\"Category\": [\"A\",\"B\",\"A\",\"B\"],\n",
    "           \"Sales\" : [100, 150, 80 , 120],\n",
    "        \"Age\" : [25, 40, 35, 28],\n",
    "        \"Customer\": [10, 15, 8, 12],\n",
    "       }\n",
    "df = pd.DataFrame(data)\n",
    "df"
   ]
  },
  {
   "cell_type": "code",
   "execution_count": 3,
   "id": "5f900246-42a4-4ebb-833b-80ae2f5a0f5d",
   "metadata": {},
   "outputs": [
    {
     "data": {
      "text/plain": [
       "Category\n",
       "A    180\n",
       "B    270\n",
       "Name: Sales, dtype: int64"
      ]
     },
     "execution_count": 3,
     "metadata": {},
     "output_type": "execute_result"
    }
   ],
   "source": [
    "#Aggregation\n",
    "df_aggreated = df.groupby('Category')['Sales'].sum()\n",
    "df_aggreated"
   ]
  },
  {
   "cell_type": "code",
   "execution_count": 4,
   "id": "df9530d3-d326-4b16-801c-c539b9828443",
   "metadata": {},
   "outputs": [
    {
     "name": "stdout",
     "output_type": "stream",
     "text": [
      "Sales per person is given: \n",
      "0    10.0\n",
      "1    10.0\n",
      "2    10.0\n",
      "3    10.0\n",
      "Name: Sales_per_Person, dtype: float64\n"
     ]
    }
   ],
   "source": [
    "#Feature Creation\n",
    "df[\"Sales_per_Person\"] = df[\"Sales\"]/df[\"Customer\"]\n",
    "print(\"Sales per person is given: \")\n",
    "print(df[\"Sales_per_Person\"])"
   ]
  },
  {
   "cell_type": "code",
   "execution_count": 5,
   "id": "489d5d7d-a8b3-4c90-b64c-9376bc892125",
   "metadata": {},
   "outputs": [
    {
     "name": "stdout",
     "output_type": "stream",
     "text": [
      "Binary Age\n",
      "  Category  Sales  Age  Customer  Sales_per_Person  Binary Age\n",
      "0        A    100   25        10              10.0           0\n",
      "1        B    150   40        15              10.0           1\n",
      "2        A     80   35         8              10.0           1\n",
      "3        B    120   28        12              10.0           0\n"
     ]
    }
   ],
   "source": [
    "#Binarization\n",
    "df[\"Binary Age\"] = (df[\"Age\"]>30).astype(int)\n",
    "print(\"Binary Age\")\n",
    "print(df)"
   ]
  },
  {
   "cell_type": "code",
   "execution_count": 6,
   "id": "e05d10b9-92d5-486d-9439-5345f069b51c",
   "metadata": {},
   "outputs": [
    {
     "data": {
      "text/html": [
       "<div>\n",
       "<style scoped>\n",
       "    .dataframe tbody tr th:only-of-type {\n",
       "        vertical-align: middle;\n",
       "    }\n",
       "\n",
       "    .dataframe tbody tr th {\n",
       "        vertical-align: top;\n",
       "    }\n",
       "\n",
       "    .dataframe thead th {\n",
       "        text-align: right;\n",
       "    }\n",
       "</style>\n",
       "<table border=\"1\" class=\"dataframe\">\n",
       "  <thead>\n",
       "    <tr style=\"text-align: right;\">\n",
       "      <th></th>\n",
       "      <th>Category</th>\n",
       "      <th>Sales</th>\n",
       "      <th>Age</th>\n",
       "      <th>Customer</th>\n",
       "      <th>Sales_per_Person</th>\n",
       "      <th>Binary Age</th>\n",
       "    </tr>\n",
       "  </thead>\n",
       "  <tbody>\n",
       "    <tr>\n",
       "      <th>1</th>\n",
       "      <td>B</td>\n",
       "      <td>150</td>\n",
       "      <td>40</td>\n",
       "      <td>15</td>\n",
       "      <td>10.0</td>\n",
       "      <td>1</td>\n",
       "    </tr>\n",
       "  </tbody>\n",
       "</table>\n",
       "</div>"
      ],
      "text/plain": [
       "  Category  Sales  Age  Customer  Sales_per_Person  Binary Age\n",
       "1        B    150   40        15              10.0           1"
      ]
     },
     "execution_count": 6,
     "metadata": {},
     "output_type": "execute_result"
    }
   ],
   "source": [
    "#Sampling\n",
    "sample_df = df.sample(frac = 0.3, random_state = 42)\n",
    "# sample_df = df.sample(2, random_state = 42)\n",
    "\n",
    "sample_df"
   ]
  },
  {
   "cell_type": "code",
   "execution_count": 7,
   "id": "85e72659-5eb6-402f-b8c2-4cab2690cb4f",
   "metadata": {},
   "outputs": [
    {
     "data": {
      "text/html": [
       "<div>\n",
       "<style scoped>\n",
       "    .dataframe tbody tr th:only-of-type {\n",
       "        vertical-align: middle;\n",
       "    }\n",
       "\n",
       "    .dataframe tbody tr th {\n",
       "        vertical-align: top;\n",
       "    }\n",
       "\n",
       "    .dataframe thead th {\n",
       "        text-align: right;\n",
       "    }\n",
       "</style>\n",
       "<table border=\"1\" class=\"dataframe\">\n",
       "  <thead>\n",
       "    <tr style=\"text-align: right;\">\n",
       "      <th></th>\n",
       "      <th>Category</th>\n",
       "      <th>Sales</th>\n",
       "      <th>Age</th>\n",
       "      <th>Customer</th>\n",
       "      <th>Sales_per_Person</th>\n",
       "      <th>Binary Age</th>\n",
       "    </tr>\n",
       "  </thead>\n",
       "  <tbody>\n",
       "    <tr>\n",
       "      <th>0</th>\n",
       "      <td>A</td>\n",
       "      <td>100</td>\n",
       "      <td>625</td>\n",
       "      <td>10</td>\n",
       "      <td>10.0</td>\n",
       "      <td>0</td>\n",
       "    </tr>\n",
       "    <tr>\n",
       "      <th>1</th>\n",
       "      <td>B</td>\n",
       "      <td>150</td>\n",
       "      <td>1600</td>\n",
       "      <td>15</td>\n",
       "      <td>10.0</td>\n",
       "      <td>1</td>\n",
       "    </tr>\n",
       "    <tr>\n",
       "      <th>2</th>\n",
       "      <td>A</td>\n",
       "      <td>80</td>\n",
       "      <td>1225</td>\n",
       "      <td>8</td>\n",
       "      <td>10.0</td>\n",
       "      <td>1</td>\n",
       "    </tr>\n",
       "    <tr>\n",
       "      <th>3</th>\n",
       "      <td>B</td>\n",
       "      <td>120</td>\n",
       "      <td>784</td>\n",
       "      <td>12</td>\n",
       "      <td>10.0</td>\n",
       "      <td>0</td>\n",
       "    </tr>\n",
       "  </tbody>\n",
       "</table>\n",
       "</div>"
      ],
      "text/plain": [
       "  Category  Sales   Age  Customer  Sales_per_Person  Binary Age\n",
       "0        A    100   625        10              10.0           0\n",
       "1        B    150  1600        15              10.0           1\n",
       "2        A     80  1225         8              10.0           1\n",
       "3        B    120   784        12              10.0           0"
      ]
     },
     "execution_count": 7,
     "metadata": {},
     "output_type": "execute_result"
    }
   ],
   "source": [
    "#Variable transformation\n",
    "ages = [23,45,67,98,23,49]\n",
    "#Tranforming the variable in squre root\n",
    "transform_ages = [age**0.5 for age in ages]\n",
    "df[\"Age\"] = df[\"Age\"]**2\n",
    "df"
   ]
  },
  {
   "cell_type": "code",
   "execution_count": 10,
   "id": "6f823da2-c155-4e49-be7f-b1e8bcc133bc",
   "metadata": {},
   "outputs": [
    {
     "name": "stdout",
     "output_type": "stream",
     "text": [
      "   Sales  Age  Customer\n",
      "0    100   25        10\n",
      "1    150   40        15\n",
      "2     80   35         8\n",
      "3    120   28        12\n",
      "Standardized Data:\n",
      "      Sales       Age  Customer\n",
      "0 -0.483368 -1.191759 -0.483368\n",
      "1  1.450105  1.362010  1.450105\n",
      "2 -1.256757  0.510754 -1.256757\n",
      "3  0.290021 -0.681005  0.290021\n",
      "\n",
      "Normalized Data:\n",
      "      Sales       Age  Customer\n",
      "0  0.285714  0.000000  0.285714\n",
      "1  1.000000  1.000000  1.000000\n",
      "2  0.000000  0.666667  0.000000\n",
      "3  0.571429  0.200000  0.571429\n"
     ]
    }
   ],
   "source": [
    "import pandas as pd\n",
    "from sklearn.preprocessing import StandardScaler, MinMaxScaler\n",
    "\n",
    "# Create the dataset\n",
    "data = {\n",
    "    \"Category\": [\"A\", \"B\", \"A\", \"B\"],\n",
    "    \"Sales\": [100, 150, 80, 120],\n",
    "    \"Age\": [25, 40, 35, 28],\n",
    "    \"Customer\": [10, 15, 8, 12],\n",
    "}\n",
    "df = pd.DataFrame(data)\n",
    "\n",
    "# Separate numerical columns for scaling\n",
    "numerical_columns = [\"Sales\", \"Age\", \"Customer\"]\n",
    "numerical_data = df[numerical_columns]\n",
    "print(numerical_data)\n",
    "\n",
    "# Standardization\n",
    "scaler_standard = StandardScaler()\n",
    "scaled_standard = scaler_standard.fit_transform(numerical_data)\n",
    "df_standardized = pd.DataFrame(scaled_standard, columns=numerical_columns)\n",
    "\n",
    "# Normalization\n",
    "scaler_minmax = MinMaxScaler()\n",
    "scaled_minmax = scaler_minmax.fit_transform(numerical_data)\n",
    "df_normalized = pd.DataFrame(scaled_minmax, columns=numerical_columns)\n",
    "\n",
    "print(\"Standardized Data:\")\n",
    "print(df_standardized)\n",
    "\n",
    "print(\"\\nNormalized Data:\")\n",
    "print(df_normalized)"
   ]
  },
  {
   "cell_type": "code",
   "execution_count": null,
   "id": "93d8f4ca-0ce7-4de9-bcc2-3f3446ff1791",
   "metadata": {},
   "outputs": [],
   "source": []
  }
 ],
 "metadata": {
  "kernelspec": {
   "display_name": "Python 3 (ipykernel)",
   "language": "python",
   "name": "python3"
  },
  "language_info": {
   "codemirror_mode": {
    "name": "ipython",
    "version": 3
   },
   "file_extension": ".py",
   "mimetype": "text/x-python",
   "name": "python",
   "nbconvert_exporter": "python",
   "pygments_lexer": "ipython3",
   "version": "3.11.1"
  }
 },
 "nbformat": 4,
 "nbformat_minor": 5
}
